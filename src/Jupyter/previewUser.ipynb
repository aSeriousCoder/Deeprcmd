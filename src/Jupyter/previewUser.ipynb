{
 "cells": [
  {
   "cell_type": "code",
   "execution_count": 34,
   "outputs": [
    {
     "data": {
      "text/plain": "{'_id': ObjectId('5de09fbf1b9be34699ef23f6'),\n 'status_code': 0,\n 'user': {'is_activity_user': False,\n  'followers_detail': [{'app_name': 'aweme',\n    'name': '抖音',\n    'icon': 'http://p3.pstatp.com/origin/50ec00079b64de2050dc',\n    'fans_count': 83552,\n    'open_url': 'snssdk1128://user/profile/1077159999315757?',\n    'apple_id': '1142110895',\n    'download_url': 'https://d.douyin.com/JsvN/',\n    'package_name': 'com.ss.android.ugc.aweme'},\n   {'name': '头条',\n    'icon': 'http://p3.pstatp.com/origin/50ed00079a1b6b8d1fb1',\n    'fans_count': 30,\n    'open_url': 'snssdk143://profile?uid=69840027238',\n    'apple_id': '529092160',\n    'download_url': 'https://d.toutiao.com/YjjY/',\n    'package_name': 'com.ss.android.article.news',\n    'app_name': 'news_article'},\n   {'icon': 'http://p3.pstatp.com/origin/551900041a7e00ec86ca',\n    'fans_count': 0,\n    'open_url': 'snssdk1112://profile?id=1077159999315757',\n    'apple_id': '1086047750',\n    'download_url': 'http://d.huoshanzhibo.com/eFvB/',\n    'package_name': 'com.ss.android.ugc.live',\n    'app_name': 'live_stream',\n    'name': '火山'}],\n  'watch_status': False,\n  'avatar_168x168': {'uri': '2dba200001b6a19856a8b',\n   'url_list': ['http://p1-dy.byteimg.com/img/mosaic-legacy/2dba200001b6a19856a8b~168x168.webp',\n    'http://p3-dy.byteimg.com/img/mosaic-legacy/2dba200001b6a19856a8b~168x168.webp',\n    'http://p9-dy.byteimg.com/img/mosaic-legacy/2dba200001b6a19856a8b~168x168.webp']},\n  'cha_list': None,\n  'college_name': '',\n  'user_mode': 0,\n  'following_count': 18,\n  'weibo_schema': '',\n  'twitter_name': '',\n  'reflow_page_gid': 0,\n  'avatar_larger': {'uri': '2dba200001b6a19856a8b',\n   'url_list': ['https://p1-dy.byteimg.com/aweme/1080x1080/2dba200001b6a19856a8b.jpeg',\n    'https://p3-dy.byteimg.com/aweme/1080x1080/2dba200001b6a19856a8b.jpeg',\n    'https://p9-dy.byteimg.com/aweme/1080x1080/2dba200001b6a19856a8b.jpeg']},\n  'user_canceled': False,\n  'cover_url': [{'uri': '2cfcd0003f48ed3f74a94',\n    'url_list': ['https://p1-dy.byteimg.com/obj/2cfcd0003f48ed3f74a94',\n     'https://p3-dy.byteimg.com/obj/2cfcd0003f48ed3f74a94',\n     'https://p9-dy.byteimg.com/obj/2cfcd0003f48ed3f74a94']},\n   {'uri': 'c8510002be9a3a61aad2',\n    'url_list': ['https://p9-dy.byteimg.com/obj/c8510002be9a3a61aad2',\n     'https://p1-dy.byteimg.com/obj/c8510002be9a3a61aad2',\n     'https://p3-dy.byteimg.com/obj/c8510002be9a3a61aad2']}],\n  'user_story_count': 0,\n  'signature_language': 'zh',\n  'account_region': '',\n  'secret': 0,\n  'with_fusion_shop_entry': True,\n  'city': '厦门',\n  'bind_phone': '#',\n  'with_stick_entry': True,\n  'is_verified': True,\n  'story_open': False,\n  'verification_type': 0,\n  'birthday_hide_level': 0,\n  'custom_verify': '',\n  'geofencing': None,\n  'hide_following_follower_list': 0,\n  'shop_micro_app': '',\n  'wx_tag': 0,\n  'prevent_download': False,\n  'avatar_uri': '2dba200001b6a19856a8b',\n  'follower_status': 0,\n  'has_story': False,\n  'signature': '🌈💞悄悄话：放心去做吧，整个宇宙都会帮助你的\\n🌈💞粉丝裙：Lin7412777（记得备注“悄悄话”哦）\\n🌈💞商务：LCLC7412（记得注明来意）',\n  'profile_tab_type': 0,\n  'avatar_medium': {'uri': '2dba200001b6a19856a8b',\n   'url_list': ['https://p1-dy.byteimg.com/aweme/720x720/2dba200001b6a19856a8b.jpeg',\n    'https://p3-dy.byteimg.com/aweme/720x720/2dba200001b6a19856a8b.jpeg',\n    'https://p9-dy.byteimg.com/aweme/720x720/2dba200001b6a19856a8b.jpeg']},\n  'share_info': {'share_url': 'www.iesdouyin.com/share/user/1077159999315757?sec_uid=MS4wLjABAAAAxoWZTXK6aHL2dESiQDGUlK_GHFJqQSb8D3vevwjDtKdiHVCbdVlGCtv9nYg5yE3b',\n   'share_weibo_desc': '在抖音，记录美好生活！',\n   'share_desc': '在抖音，记录美好生活！',\n   'share_title': '快来加入抖音，让你发现最有趣的我！',\n   'share_qrcode_url': {'uri': '23fcc00059f5815a40afb',\n    'url_list': ['https://p3-dy.byteimg.com/obj/23fcc00059f5815a40afb',\n     'https://p9-dy.byteimg.com/obj/23fcc00059f5815a40afb',\n     'https://p1-dy.byteimg.com/obj/23fcc00059f5815a40afb']},\n   'share_image_url': {'url_list': None},\n   'bool_persist': 1},\n  'iso_country_code': 'CN',\n  'total_favorited': 1120389,\n  'hide_location': False,\n  'with_luban_entry': False,\n  'duet_setting': 0,\n  'reflow_page_uid': 0,\n  'with_new_goods': False,\n  'live_commerce': True,\n  'follower_count': 83552,\n  'weibo_verify': '',\n  'unique_id_modify_time': 1575002046,\n  'ins_id': '',\n  'new_story_cover': None,\n  'is_blocked': False,\n  'gender': 2,\n  'has_insights': False,\n  'youtube_last_refresh_time': 0,\n  'content_language_already_popup': 0,\n  'location': '厦门',\n  'with_commerce_entry': True,\n  'original_musician': {'music_count': 0,\n   'music_used_count': 0,\n   'digg_count': 0},\n  'video_icon_virtual_URI': '',\n  'sync_to_toutiao': 1,\n  'avatar_300x300': {'uri': '2dba200001b6a19856a8b',\n   'url_list': ['http://p1-dy.byteimg.com/img/mosaic-legacy/2dba200001b6a19856a8b~300x300.webp',\n    'http://p3-dy.byteimg.com/img/mosaic-legacy/2dba200001b6a19856a8b~300x300.webp',\n    'http://p9-dy.byteimg.com/img/mosaic-legacy/2dba200001b6a19856a8b~300x300.webp']},\n  'is_pro_account': False,\n  'country': '中国',\n  'is_effect_artist': False,\n  'latest_order_time': 0,\n  'urge_detail': {'user_urged': 0},\n  'activity': {'digg_count': 0, 'use_music_count': 0},\n  'enterprise_verify_reason': '',\n  'commerce_info': {'offline_info_list': [], 'challenge_list': []},\n  'dongtai_count': 80,\n  'dp_level': True,\n  'short_id': '0',\n  'unique_id': 'Lin7412',\n  'commerce_permissions': {'enterprise': 1},\n  'youtube_refresh_token': '',\n  'need_points': None,\n  'follow_status': 0,\n  'comment_setting': 0,\n  'download_setting': 0,\n  'sec_uid': 'MS4wLjABAAAAxoWZTXK6aHL2dESiQDGUlK_GHFJqQSb8D3vevwjDtKdiHVCbdVlGCtv9nYg5yE3b',\n  'video_icon': {'uri': '', 'url_list': []},\n  'youtube_channel_id': '',\n  'is_block': False,\n  'react_setting': 0,\n  'is_gov_media_vip': False,\n  'is_star': False,\n  'ad_cover_url': None,\n  'commerce_user_info': {},\n  'platform_sync_info': None,\n  'district': '',\n  'type_label': None,\n  'weibo_url': '',\n  'with_shop_entry': False,\n  'recommend_reason_relation': '',\n  'aweme_count': 50,\n  'favoriting_count': 204,\n  'room_id': 0,\n  'download_prompt_ts': 0,\n  'apple_account': 0,\n  'twitter_id': '',\n  'has_unread_story': False,\n  'r_fans_group_info': {},\n  'uid': '1077159999315757',\n  'avatar_thumb': {'uri': '2dba200001b6a19856a8b',\n   'url_list': ['https://p1-dy.byteimg.com/aweme/100x100/2dba200001b6a19856a8b.jpeg',\n    'https://p3-dy.byteimg.com/aweme/100x100/2dba200001b6a19856a8b.jpeg',\n    'https://p9-dy.byteimg.com/aweme/100x100/2dba200001b6a19856a8b.jpeg']},\n  'school_name': '',\n  'region': 'CN',\n  'star_use_new_download': True,\n  'commerce_user_level': 0,\n  'share_qrcode_uri': '23fcc00059f5815a40afb',\n  'nickname': 'LIN',\n  'constellation': 7,\n  'verify_info': '',\n  'with_commerce_enterprise_tab_entry': False,\n  'relative_users': None,\n  'video_cover': {},\n  'has_activity_medal': False,\n  'show_image_bubble': False,\n  'youtube_channel_title': '',\n  'province': '福建',\n  'mplatform_followers_count': 83582,\n  'user_period': 0,\n  'birthday': '1998-01-01',\n  'special_lock': 1,\n  'school_poi_id': '',\n  'item_list': None},\n 'extra': {'now': 1575002046000},\n 'log_pb': {'impr_id': '2019112912340601001404719525E16A24'}}"
     },
     "metadata": {},
     "output_type": "execute_result",
     "execution_count": 34
    }
   ],
   "source": [
    "import pymongo\n",
    "\n",
    "myclient = pymongo.MongoClient(\"mongodb://127.0.0.1:27017/\")\n",
    "mydb = myclient[\"douyin\"]\n",
    "users = mydb.users\n",
    "user = users.find_one()\n",
    "user"
   ],
   "metadata": {
    "collapsed": false,
    "pycharm": {
     "name": "#%%\n",
     "is_executing": false
    }
   }
  },
  {
   "cell_type": "code",
   "execution_count": 35,
   "metadata": {
    "pycharm": {
     "is_executing": false
    }
   },
   "outputs": [],
   "source": [
    "logging_sample = mydb.logging.find_one()\n",
    "logging_sample\n",
    "\n"
   ]
  },
  {
   "cell_type": "code",
   "execution_count": 11,
   "metadata": {
    "pycharm": {
     "is_executing": false
    }
   },
   "outputs": [],
   "source": [
    "aggs = [\n",
    "    {\n",
    "        \"$group\":{\n",
    "            \"_id\": \"$user.gender\",\n",
    "            \"count\": {\"$sum\":1},\n",
    "            \"avg_dongtai_count\": {\"$avg\":\"$user.dongtai_count\"}\n",
    "        }\n",
    "    }\n",
    "]\n",
    "\n",
    "result = users.aggregate(pipeline=aggs)"
   ]
  },
  {
   "cell_type": "code",
   "execution_count": 12,
   "metadata": {
    "pycharm": {
     "is_executing": false
    }
   },
   "outputs": [],
   "source": [
    "for i in result:\n",
    "    print(i)"
   ]
  },
  {
   "cell_type": "markdown",
   "metadata": {},
   "source": [
    "在user属性中发现了is_star字段，对其进行聚合统计的结果如下，虽然不知道背后的设置标准，但是我们可以初步使用此字段进行“大V&粉丝”之间的区分"
   ]
  },
  {
   "cell_type": "code",
   "execution_count": 13,
   "metadata": {
    "pycharm": {
     "is_executing": false
    }
   },
   "outputs": [],
   "source": [
    "match = {'$match': {'user.is_star': {'$ne': None},\n",
    "                     'user.gender': {'$ne': None},\n",
    "                     'user.follower_count': {'$gt': 100000},\n",
    "                     'user.following_count': {'$ne': None},\n",
    "                     'user.total_favorited': {'$ne': None}}}  \n",
    "            \n",
    "group = {\"$group\":{\n",
    "            \"_id\": {\"is_star\":\"$user.is_star\"},\n",
    "            \"count\": {\"$sum\":1},\n",
    "            \"avg_follower_count\": {\"$avg\":\"$user.follower_count\"},\n",
    "            \"max_follower_count\": {\"$max\":\"$user.follower_count\"},\n",
    "            \"min_follower_count\": {\"$min\":\"$user.follower_count\"},\n",
    "            \"avg_following_count\": {\"$avg\":\"$user.following_count\"},\n",
    "            \"max_following_count\": {\"$max\":\"$user.following_count\"},\n",
    "            \"min_following_count\": {\"$min\":\"$user.following_count\"},\n",
    "            \"avg_total_favorited\": {\"$avg\":\"$user.total_favorited\"},\n",
    "            \"max_total_favorited\": {\"$max\":\"$user.total_favorited\"},\n",
    "            \"min_total_favorited\": {\"$min\":\"$user.total_favorited\"},\n",
    "            \"avg_dongtai_count\": {\"$avg\":\"$user.dongtai_count\"},\n",
    "            \"max_dongtai_count\": {\"$max\":\"$user.dongtai_count\"},\n",
    "            \"min_dongtai_count\": {\"$min\":\"$user.dongtai_count\"}\n",
    "        }\n",
    "    }\n",
    "\n",
    "pipeline = [match, group]\n",
    "\n",
    "result = users.aggregate(pipeline)\n",
    "\n",
    "for i in result:\n",
    "    print(i)"
   ]
  },
  {
   "cell_type": "markdown",
   "metadata": {},
   "source": [
    "##### 结论：\n",
    "\n",
    "1. 明星的受关注度明显高于非明星，具体体现为follower更多，following更少，favorited更多\n",
    "2. 网红并不包括在明星之中，理由是非明星也拥有十分可观的平均流量，这与现实情况并不匹配\n",
    "3. 添加maxmin分析后发现，非明星中的大V，即网红，在流量表现上并不逊色于明星\n",
    "4. 使用粉丝数大于100000进行筛选后，非明星的平均数据表现向明星逼近\n",
    "\n",
    "\n",
    "##### 那么问题来了\n",
    "\n",
    "Q:如何划定标准区分出网红？\n",
    "\n",
    "A:【简单方案】粉丝数和受赞数混合筛选\n",
    "\n"
   ]
  },
  {
   "cell_type": "code",
   "execution_count": 14,
   "metadata": {
    "pycharm": {
     "is_executing": false
    }
   },
   "outputs": [],
   "source": [
    "import pandas as pd\n",
    "\n",
    "df = pd.DataFrame(list(users.find()))"
   ]
  },
  {
   "cell_type": "code",
   "execution_count": 15,
   "metadata": {
    "pycharm": {
     "is_executing": false
    }
   },
   "outputs": [],
   "source": [
    "df_data = []\n",
    "for user in users.find():\n",
    "    df_data.append(user['user'])"
   ]
  },
  {
   "cell_type": "code",
   "execution_count": 16,
   "metadata": {
    "pycharm": {
     "is_executing": false
    }
   },
   "outputs": [],
   "source": [
    "df = pd.DataFrame(df_data)"
   ]
  },
  {
   "cell_type": "code",
   "execution_count": 17,
   "metadata": {
    "pycharm": {
     "is_executing": false
    }
   },
   "outputs": [
    {
     "traceback": [
      "\u001b[0;31m---------------------------------------------------------------------------\u001b[0m",
      "\u001b[0;31mKeyError\u001b[0m                                  Traceback (most recent call last)",
      "\u001b[0;32m<ipython-input-17-4cd80b92ec70>\u001b[0m in \u001b[0;36m<module>\u001b[0;34m\u001b[0m\n\u001b[1;32m      1\u001b[0m df = df[['is_star', 'gender', 'birthday', 'follower_count', 'following_count', 'total_favorited', 'dongtai_count',\n\u001b[0;32m----> 2\u001b[0;31m        'with_shop_entry', 'commerce_user_level', 'type_label']]\n\u001b[0m\u001b[1;32m      3\u001b[0m \u001b[0;34m\u001b[0m\u001b[0m\n",
      "\u001b[0;32m~/opt/anaconda3/lib/python3.7/site-packages/pandas/core/frame.py\u001b[0m in \u001b[0;36m__getitem__\u001b[0;34m(self, key)\u001b[0m\n\u001b[1;32m   2984\u001b[0m             \u001b[0;32mif\u001b[0m \u001b[0mis_iterator\u001b[0m\u001b[0;34m(\u001b[0m\u001b[0mkey\u001b[0m\u001b[0;34m)\u001b[0m\u001b[0;34m:\u001b[0m\u001b[0;34m\u001b[0m\u001b[0;34m\u001b[0m\u001b[0m\n\u001b[1;32m   2985\u001b[0m                 \u001b[0mkey\u001b[0m \u001b[0;34m=\u001b[0m \u001b[0mlist\u001b[0m\u001b[0;34m(\u001b[0m\u001b[0mkey\u001b[0m\u001b[0;34m)\u001b[0m\u001b[0;34m\u001b[0m\u001b[0;34m\u001b[0m\u001b[0m\n\u001b[0;32m-> 2986\u001b[0;31m             \u001b[0mindexer\u001b[0m \u001b[0;34m=\u001b[0m \u001b[0mself\u001b[0m\u001b[0;34m.\u001b[0m\u001b[0mloc\u001b[0m\u001b[0;34m.\u001b[0m\u001b[0m_convert_to_indexer\u001b[0m\u001b[0;34m(\u001b[0m\u001b[0mkey\u001b[0m\u001b[0;34m,\u001b[0m \u001b[0maxis\u001b[0m\u001b[0;34m=\u001b[0m\u001b[0;36m1\u001b[0m\u001b[0;34m,\u001b[0m \u001b[0mraise_missing\u001b[0m\u001b[0;34m=\u001b[0m\u001b[0;32mTrue\u001b[0m\u001b[0;34m)\u001b[0m\u001b[0;34m\u001b[0m\u001b[0;34m\u001b[0m\u001b[0m\n\u001b[0m\u001b[1;32m   2987\u001b[0m \u001b[0;34m\u001b[0m\u001b[0m\n\u001b[1;32m   2988\u001b[0m         \u001b[0;31m# take() does not accept boolean indexers\u001b[0m\u001b[0;34m\u001b[0m\u001b[0;34m\u001b[0m\u001b[0;34m\u001b[0m\u001b[0m\n",
      "\u001b[0;32m~/opt/anaconda3/lib/python3.7/site-packages/pandas/core/indexing.py\u001b[0m in \u001b[0;36m_convert_to_indexer\u001b[0;34m(self, obj, axis, is_setter, raise_missing)\u001b[0m\n\u001b[1;32m   1283\u001b[0m                 \u001b[0;31m# When setting, missing keys are not allowed, even with .loc:\u001b[0m\u001b[0;34m\u001b[0m\u001b[0;34m\u001b[0m\u001b[0;34m\u001b[0m\u001b[0m\n\u001b[1;32m   1284\u001b[0m                 \u001b[0mkwargs\u001b[0m \u001b[0;34m=\u001b[0m \u001b[0;34m{\u001b[0m\u001b[0;34m\"raise_missing\"\u001b[0m\u001b[0;34m:\u001b[0m \u001b[0;32mTrue\u001b[0m \u001b[0;32mif\u001b[0m \u001b[0mis_setter\u001b[0m \u001b[0;32melse\u001b[0m \u001b[0mraise_missing\u001b[0m\u001b[0;34m}\u001b[0m\u001b[0;34m\u001b[0m\u001b[0;34m\u001b[0m\u001b[0m\n\u001b[0;32m-> 1285\u001b[0;31m                 \u001b[0;32mreturn\u001b[0m \u001b[0mself\u001b[0m\u001b[0;34m.\u001b[0m\u001b[0m_get_listlike_indexer\u001b[0m\u001b[0;34m(\u001b[0m\u001b[0mobj\u001b[0m\u001b[0;34m,\u001b[0m \u001b[0maxis\u001b[0m\u001b[0;34m,\u001b[0m \u001b[0;34m**\u001b[0m\u001b[0mkwargs\u001b[0m\u001b[0;34m)\u001b[0m\u001b[0;34m[\u001b[0m\u001b[0;36m1\u001b[0m\u001b[0;34m]\u001b[0m\u001b[0;34m\u001b[0m\u001b[0;34m\u001b[0m\u001b[0m\n\u001b[0m\u001b[1;32m   1286\u001b[0m         \u001b[0;32melse\u001b[0m\u001b[0;34m:\u001b[0m\u001b[0;34m\u001b[0m\u001b[0;34m\u001b[0m\u001b[0m\n\u001b[1;32m   1287\u001b[0m             \u001b[0;32mtry\u001b[0m\u001b[0;34m:\u001b[0m\u001b[0;34m\u001b[0m\u001b[0;34m\u001b[0m\u001b[0m\n",
      "\u001b[0;32m~/opt/anaconda3/lib/python3.7/site-packages/pandas/core/indexing.py\u001b[0m in \u001b[0;36m_get_listlike_indexer\u001b[0;34m(self, key, axis, raise_missing)\u001b[0m\n\u001b[1;32m   1090\u001b[0m \u001b[0;34m\u001b[0m\u001b[0m\n\u001b[1;32m   1091\u001b[0m         self._validate_read_indexer(\n\u001b[0;32m-> 1092\u001b[0;31m             \u001b[0mkeyarr\u001b[0m\u001b[0;34m,\u001b[0m \u001b[0mindexer\u001b[0m\u001b[0;34m,\u001b[0m \u001b[0mo\u001b[0m\u001b[0;34m.\u001b[0m\u001b[0m_get_axis_number\u001b[0m\u001b[0;34m(\u001b[0m\u001b[0maxis\u001b[0m\u001b[0;34m)\u001b[0m\u001b[0;34m,\u001b[0m \u001b[0mraise_missing\u001b[0m\u001b[0;34m=\u001b[0m\u001b[0mraise_missing\u001b[0m\u001b[0;34m\u001b[0m\u001b[0;34m\u001b[0m\u001b[0m\n\u001b[0m\u001b[1;32m   1093\u001b[0m         )\n\u001b[1;32m   1094\u001b[0m         \u001b[0;32mreturn\u001b[0m \u001b[0mkeyarr\u001b[0m\u001b[0;34m,\u001b[0m \u001b[0mindexer\u001b[0m\u001b[0;34m\u001b[0m\u001b[0;34m\u001b[0m\u001b[0m\n",
      "\u001b[0;32m~/opt/anaconda3/lib/python3.7/site-packages/pandas/core/indexing.py\u001b[0m in \u001b[0;36m_validate_read_indexer\u001b[0;34m(self, key, indexer, axis, raise_missing)\u001b[0m\n\u001b[1;32m   1175\u001b[0m                 raise KeyError(\n\u001b[1;32m   1176\u001b[0m                     \"None of [{key}] are in the [{axis}]\".format(\n\u001b[0;32m-> 1177\u001b[0;31m                         \u001b[0mkey\u001b[0m\u001b[0;34m=\u001b[0m\u001b[0mkey\u001b[0m\u001b[0;34m,\u001b[0m \u001b[0maxis\u001b[0m\u001b[0;34m=\u001b[0m\u001b[0mself\u001b[0m\u001b[0;34m.\u001b[0m\u001b[0mobj\u001b[0m\u001b[0;34m.\u001b[0m\u001b[0m_get_axis_name\u001b[0m\u001b[0;34m(\u001b[0m\u001b[0maxis\u001b[0m\u001b[0;34m)\u001b[0m\u001b[0;34m\u001b[0m\u001b[0;34m\u001b[0m\u001b[0m\n\u001b[0m\u001b[1;32m   1178\u001b[0m                     )\n\u001b[1;32m   1179\u001b[0m                 )\n",
      "\u001b[0;31mKeyError\u001b[0m: \"None of [Index(['is_star', 'gender', 'birthday', 'follower_count', 'following_count',\\n       'total_favorited', 'dongtai_count', 'with_shop_entry',\\n       'commerce_user_level', 'type_label'],\\n      dtype='object')] are in the [columns]\""
     ],
     "ename": "KeyError",
     "evalue": "\"None of [Index(['is_star', 'gender', 'birthday', 'follower_count', 'following_count',\\n       'total_favorited', 'dongtai_count', 'with_shop_entry',\\n       'commerce_user_level', 'type_label'],\\n      dtype='object')] are in the [columns]\"",
     "output_type": "error"
    }
   ],
   "source": [
    "df = df[['is_star', 'gender', 'birthday', 'follower_count', 'following_count', 'total_favorited', 'dongtai_count',\n",
    "       'with_shop_entry', 'commerce_user_level', 'type_label']]"
   ]
  },
  {
   "cell_type": "code",
   "execution_count": null,
   "metadata": {
    "pycharm": {
     "is_executing": false
    }
   },
   "outputs": [],
   "source": [
    "df = df[df.is_star == False]\n",
    "df = df[(df.birthday >= '1919-01-01') & (df.birthday <= '2013-01-01')]\n",
    "df = df[df.follower_count < 10000]\n",
    "df = df[df.total_favorited < 1000000]"
   ]
  },
  {
   "cell_type": "code",
   "execution_count": null,
   "metadata": {
    "pycharm": {
     "is_executing": false
    }
   },
   "outputs": [],
   "source": [
    "df.head()"
   ]
  },
  {
   "cell_type": "code",
   "execution_count": null,
   "metadata": {
    "pycharm": {
     "is_executing": false
    }
   },
   "outputs": [],
   "source": [
    "import matplotlib\n",
    "import matplotlib.pyplot as plt\n",
    "from matplotlib.pyplot import MultipleLocator\n",
    "\n",
    "df.groupby([df.birthday]).is_star.count().plot(kind=\"bar\")\n",
    "\n",
    "plt.xlabel(\"\")\n",
    "ax=plt.gca()\n",
    "counter = 0\n",
    "for label in ax.get_xticklabels():\n",
    "    if counter%4 != 0:\n",
    "        label.set_visible(False)\n",
    "    counter += 1\n",
    "plt.show()"
   ]
  },
  {
   "cell_type": "code",
   "execution_count": null,
   "metadata": {
    "pycharm": {
     "is_executing": false
    }
   },
   "outputs": [],
   "source": [
    "df.groupby([df.gender]).is_star.count().plot(kind=\"bar\")\n",
    "\n",
    "plt.xlabel(\"\")\n",
    "ax=plt.gca()\n",
    "plt.show()"
   ]
  },
  {
   "cell_type": "code",
   "execution_count": null,
   "metadata": {
    "pycharm": {
     "is_executing": false
    }
   },
   "outputs": [],
   "source": [
    "df.groupby([df.commerce_user_level]).is_star.count().plot(kind=\"bar\")\n",
    "\n",
    "plt.xlabel(\"\")\n",
    "ax=plt.gca()\n",
    "plt.show()"
   ]
  },
  {
   "cell_type": "code",
   "execution_count": null,
   "metadata": {
    "pycharm": {
     "is_executing": false
    }
   },
   "outputs": [],
   "source": [
    "df_withcommerce = df[df.commerce_user_level == 1]"
   ]
  },
  {
   "cell_type": "code",
   "execution_count": null,
   "metadata": {
    "pycharm": {
     "is_executing": false
    }
   },
   "outputs": [],
   "source": [
    "df_withcommerce.head()"
   ]
  },
  {
   "cell_type": "code",
   "execution_count": null,
   "metadata": {
    "pycharm": {
     "is_executing": false
    }
   },
   "outputs": [],
   "source": [
    "df_withcommerce.groupby([df_withcommerce.birthday]).is_star.count().plot(kind=\"bar\")\n",
    "\n",
    "plt.xlabel(\"\")\n",
    "ax=plt.gca()\n",
    "counter = 0\n",
    "for label in ax.get_xticklabels():\n",
    "    if counter%4 != 0:\n",
    "        label.set_visible(False)\n",
    "    counter += 1\n",
    "plt.show()"
   ]
  },
  {
   "cell_type": "code",
   "execution_count": null,
   "metadata": {
    "pycharm": {
     "is_executing": false
    }
   },
   "outputs": [],
   "source": [
    "df_withcommerce.groupby([df_withcommerce.gender]).is_star.count().plot(kind=\"bar\")\n",
    "plt.show()"
   ]
  },
  {
   "cell_type": "markdown",
   "metadata": {},
   "source": [
    "commerce_user_level等于1的用户从年龄分布上来看，大多数为80后90后，对应经济活动最频繁的一群人，猜想会和卖东西有关"
   ]
  },
  {
   "cell_type": "code",
   "execution_count": null,
   "metadata": {
    "pycharm": {
     "is_executing": false
    }
   },
   "outputs": [],
   "source": [
    "df.groupby([df.with_shop_entry]).is_star.count().plot(kind=\"bar\")\n",
    "plt.show()"
   ]
  },
  {
   "cell_type": "markdown",
   "metadata": {},
   "source": [
    "现在回到全部数据对commerce和shop进行统计"
   ]
  },
  {
   "cell_type": "code",
   "execution_count": null,
   "metadata": {
    "pycharm": {
     "is_executing": false
    }
   },
   "outputs": [],
   "source": [
    "df = pd.DataFrame(df_data)\n",
    "df = df[['is_star', 'gender', 'birthday', 'follower_count', 'following_count', 'total_favorited', 'dongtai_count',\n",
    "       'with_shop_entry', 'commerce_user_level', 'type_label']]"
   ]
  },
  {
   "cell_type": "code",
   "execution_count": null,
   "metadata": {
    "pycharm": {
     "is_executing": false
    }
   },
   "outputs": [],
   "source": [
    "df.groupby([df.commerce_user_level]).is_star.count().plot(kind=\"bar\")\n",
    "plt.show()"
   ]
  },
  {
   "cell_type": "code",
   "execution_count": null,
   "metadata": {
    "pycharm": {
     "is_executing": false
    }
   },
   "outputs": [],
   "source": [
    "df.groupby([df.commerce_user_level]).is_star.count()"
   ]
  },
  {
   "cell_type": "code",
   "execution_count": null,
   "metadata": {
    "pycharm": {
     "is_executing": false
    }
   },
   "outputs": [],
   "source": [
    "df_withcommerce_1 = df[df.commerce_user_level == 1]\n",
    "df_withcommerce_2 = df[df.commerce_user_level == 2]"
   ]
  },
  {
   "cell_type": "code",
   "execution_count": null,
   "metadata": {
    "pycharm": {
     "is_executing": false
    }
   },
   "outputs": [],
   "source": [
    "df_withcommerce_1.head()"
   ]
  },
  {
   "cell_type": "code",
   "execution_count": null,
   "metadata": {
    "pycharm": {
     "is_executing": false
    }
   },
   "outputs": [],
   "source": [
    "df_withcommerce_2.head()"
   ]
  },
  {
   "cell_type": "code",
   "execution_count": null,
   "metadata": {
    "pycharm": {
     "is_executing": false
    }
   },
   "outputs": [],
   "source": [
    "df_withcommerce_2.follower_count"
   ]
  },
  {
   "cell_type": "code",
   "execution_count": null,
   "metadata": {
    "pycharm": {
     "is_executing": false
    }
   },
   "outputs": [],
   "source": [
    "min(df_withcommerce_1.follower_count)"
   ]
  },
  {
   "cell_type": "code",
   "execution_count": null,
   "metadata": {
    "pycharm": {
     "is_executing": false
    }
   },
   "outputs": [],
   "source": [
    "min(df_withcommerce_2.follower_count)"
   ]
  },
  {
   "cell_type": "code",
   "execution_count": null,
   "metadata": {
    "pycharm": {
     "is_executing": false
    }
   },
   "outputs": [],
   "source": [
    "df_withcommerce_1.groupby([df_withcommerce_1.with_shop_entry]).is_star.count().plot(kind=\"bar\")\n",
    "plt.show()"
   ]
  },
  {
   "cell_type": "code",
   "execution_count": null,
   "metadata": {
    "pycharm": {
     "is_executing": false
    }
   },
   "outputs": [],
   "source": [
    "df_withcommerce_1.groupby([df_withcommerce_1.with_shop_entry]).is_star.count()"
   ]
  },
  {
   "cell_type": "code",
   "execution_count": null,
   "metadata": {
    "pycharm": {
     "is_executing": false
    }
   },
   "outputs": [],
   "source": [
    "df_withcommerce_2.groupby([df_withcommerce_2.with_shop_entry]).is_star.count()"
   ]
  },
  {
   "cell_type": "code",
   "execution_count": null,
   "metadata": {
    "pycharm": {
     "is_executing": false
    }
   },
   "outputs": [],
   "source": [
    "df_withshop = df[df.with_shop_entry == True]"
   ]
  },
  {
   "cell_type": "code",
   "execution_count": null,
   "metadata": {
    "pycharm": {
     "is_executing": false
    }
   },
   "outputs": [],
   "source": [
    "df_withshop.head()"
   ]
  },
  {
   "cell_type": "code",
   "execution_count": null,
   "metadata": {
    "pycharm": {
     "is_executing": false
    }
   },
   "outputs": [],
   "source": [
    "df_withcommerce_1.groupby([df_withcommerce_1.birthday]).is_star.count().plot(kind=\"bar\")\n",
    "\n",
    "ax=plt.gca()\n",
    "counter = 0\n",
    "for label in ax.get_xticklabels():\n",
    "    if counter%4 != 0:\n",
    "        label.set_visible(False)\n",
    "    counter += 1\n",
    "plt.show()"
   ]
  },
  {
   "cell_type": "code",
   "execution_count": null,
   "metadata": {
    "pycharm": {
     "is_executing": false
    }
   },
   "outputs": [],
   "source": [
    "df_withcommerce_2.groupby([df_withcommerce_2.birthday]).is_star.count().plot(kind=\"bar\")\n",
    "\n",
    "ax=plt.gca()\n",
    "counter = 0\n",
    "for label in ax.get_xticklabels():\n",
    "    if counter%4 != 0:\n",
    "        label.set_visible(False)\n",
    "    counter += 1\n",
    "plt.show()"
   ]
  },
  {
   "cell_type": "code",
   "execution_count": null,
   "metadata": {
    "pycharm": {
     "is_executing": false
    }
   },
   "outputs": [],
   "source": [
    "df_withshop.groupby([df_withshop.birthday]).is_star.count().plot(kind=\"bar\")\n",
    "\n",
    "ax=plt.gca()\n",
    "counter = 0\n",
    "for label in ax.get_xticklabels():\n",
    "    if counter%4 != 0:\n",
    "        label.set_visible(False)\n",
    "    counter += 1\n",
    "plt.show()"
   ]
  },
  {
   "cell_type": "code",
   "execution_count": null,
   "metadata": {
    "pycharm": {
     "is_executing": false
    }
   },
   "outputs": [],
   "source": [
    "df_withshop"
   ]
  },
  {
   "cell_type": "code",
   "execution_count": null,
   "metadata": {
    "pycharm": {
     "is_executing": false
    }
   },
   "outputs": [],
   "source": []
  }
 ],
 "metadata": {
  "kernelspec": {
   "display_name": "Python 3",
   "language": "python",
   "name": "python3"
  },
  "language_info": {
   "codemirror_mode": {
    "name": "ipython",
    "version": 3
   },
   "file_extension": ".py",
   "mimetype": "text/x-python",
   "name": "python",
   "nbconvert_exporter": "python",
   "pygments_lexer": "ipython3",
   "version": "3.7.4"
  },
  "pycharm": {
   "stem_cell": {
    "cell_type": "raw",
    "source": [],
    "metadata": {
     "collapsed": false
    }
   }
  }
 },
 "nbformat": 4,
 "nbformat_minor": 2
}