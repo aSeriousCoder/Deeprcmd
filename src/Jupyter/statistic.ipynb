{
 "cells": [
  {
   "cell_type": "code",
   "execution_count": 1,
   "metadata": {
    "collapsed": true,
    "pycharm": {
     "is_executing": false
    }
   },
   "outputs": [],
   "source": [
    "from pymysql import connect\n",
    "from tqdm import tqdm\n",
    "\n",
    "conn = connect(host='127.0.0.1', port=3306, database='douyin', user='root', password='root', charset='utf8')\n",
    "cur = conn.cursor()"
   ]
  },
  {
   "cell_type": "code",
   "execution_count": 2,
   "outputs": [],
   "source": [
    "sql = \"select nickname, uid, follower_count from user order by follower_count DESC limit 10\"\n",
    "\n",
    "row_count = cur.execute(sql)\n",
    "row_all = cur.fetchall()"
   ],
   "metadata": {
    "collapsed": false,
    "pycharm": {
     "name": "#%%\n",
     "is_executing": false
    }
   }
  },
  {
   "cell_type": "code",
   "execution_count": 3,
   "outputs": [
    {
     "name": "stdout",
     "text": [
      "nickname: 陈赫  uid: 84990209480  follower_count: 82817696\nnickname: ❤️会说话的刘二豆❤️  uid: 58558645805  follower_count: 58892456\nnickname: 多余和毛毛姐  uid: 60424463447  follower_count: 46337752\nnickname: 何炅  uid: 85264891763  follower_count: 43336608\nnickname: 罗志祥  uid: 76725372134  follower_count: 41607428\nnickname: papi酱  uid: 84492244869  follower_count: 41052444\nnickname: 一条小团团OvO  uid: 72673737181  follower_count: 40975212\nnickname: Angelababy  uid: 80812090202  follower_count: 40273999\nnickname: 央视新闻  uid: 66598046050  follower_count: 39506936\nnickname: 七舅脑爷  uid: 65411347386  follower_count: 39140032\n"
     ],
     "output_type": "stream"
    }
   ],
   "source": [
    "for row in row_all:\n",
    "    print(\"nickname: {}  uid: {}  follower_count: {}\".format(row[0], row[1], row[2]))"
   ],
   "metadata": {
    "collapsed": false,
    "pycharm": {
     "name": "#%%\n",
     "is_executing": false
    }
   }
  },
  {
   "cell_type": "code",
   "execution_count": 4,
   "outputs": [],
   "source": [
    "from codes.database import database\n",
    "\n",
    "db = database()\n",
    "awemes = db.getAwemeTags(id='84990209480')"
   ],
   "metadata": {
    "collapsed": false,
    "pycharm": {
     "name": "#%%\n",
     "is_executing": false
    }
   }
  },
  {
   "cell_type": "code",
   "execution_count": 6,
   "outputs": [],
   "source": [
    "aweme_sample_id = awemes[1]['aweme_id']\n",
    "comments = db.getComments(aweme_sample_id)\n"
   ],
   "metadata": {
    "collapsed": false,
    "pycharm": {
     "name": "#%%\n",
     "is_executing": false
    }
   }
  }
 ],
 "metadata": {
  "kernelspec": {
   "display_name": "Python 3",
   "language": "python",
   "name": "python3"
  },
  "language_info": {
   "codemirror_mode": {
    "name": "ipython",
    "version": 2
   },
   "file_extension": ".py",
   "mimetype": "text/x-python",
   "name": "python",
   "nbconvert_exporter": "python",
   "pygments_lexer": "ipython2",
   "version": "2.7.6"
  },
  "pycharm": {
   "stem_cell": {
    "cell_type": "raw",
    "source": [],
    "metadata": {
     "collapsed": false
    }
   }
  }
 },
 "nbformat": 4,
 "nbformat_minor": 0
}